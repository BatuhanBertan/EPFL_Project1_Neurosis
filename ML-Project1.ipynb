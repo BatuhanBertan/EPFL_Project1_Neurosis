{
 "cells": [
  {
   "cell_type": "code",
   "execution_count": 1,
   "id": "9789b748",
   "metadata": {},
   "outputs": [],
   "source": [
    "import sys\n",
    "sys.path.append(\"..\")\n",
    "import numpy as np\n",
    "import matplotlib.pyplot as plt\n",
    "import math\n",
    "from src.gradient import *\n",
    "from src.logistic import *\n",
    "from src.loss import *\n",
    "from src.helpers import *\n",
    "from implementations import *\n",
    "import matplotlib.pyplot as plt\n",
    "#from implementations_v2 import *\n",
    "#from src import *\n",
    "\n",
    "import datetime"
   ]
  },
  {
   "cell_type": "code",
   "execution_count": 2,
   "id": "64f7da18",
   "metadata": {},
   "outputs": [
    {
     "name": "stdout",
     "output_type": "stream",
     "text": [
      "\n",
      "Loading the raw training and test set data...\n",
      "\n",
      "... finished.\n",
      "Y:\n",
      "[ 1. -1. -1. ...  1. -1. -1.]\n",
      "input:\n",
      "[[ 138.47    51.655   97.827 ...    1.24    -2.475  113.497]\n",
      " [ 160.937   68.768  103.235 ... -999.    -999.      46.226]\n",
      " [-999.     162.172  125.953 ... -999.    -999.      44.251]\n",
      " ...\n",
      " [ 105.457   60.526   75.839 ... -999.    -999.      41.992]\n",
      " [  94.951   19.362   68.812 ... -999.    -999.       0.   ]\n",
      " [-999.      72.756   70.831 ... -999.    -999.       0.   ]]\n",
      "ids:\n",
      "[100000 100001 100002 ... 349997 349998 349999]\n"
     ]
    }
   ],
   "source": [
    "y_train, tx_train, ids_train, y_test, tx_test, ids_test =load(\"train.csv\",\"test.csv\")\n",
    "print(\"Y:\")\n",
    "print(y_train)\n",
    "print(\"input:\")\n",
    "print(tx_train)\n",
    "print(\"ids:\")\n",
    "print(ids_train)\n",
    "\n",
    "num_samples = tx_train.shape[0]\n",
    "num_features = tx_train.shape[1]\n",
    "\n"
   ]
  },
  {
   "cell_type": "code",
   "execution_count": 3,
   "id": "104939b0",
   "metadata": {},
   "outputs": [
    {
     "name": "stdout",
     "output_type": "stream",
     "text": [
      "Total size: 250000\n",
      "Feature size: 30\n"
     ]
    }
   ],
   "source": [
    "print('Total size:', num_samples)\n",
    "print('Feature size:', num_features)"
   ]
  },
  {
   "cell_type": "code",
   "execution_count": 4,
   "id": "e248881a",
   "metadata": {},
   "outputs": [],
   "source": [
    "error_value = -999.0\n",
    "\n",
    "# Cleaned input array by replacing errors with most frequent values\n",
    "x_clean_mf = clean_data(tx_train, error_value, most_frequent)\n",
    "\n",
    "# Cleaned input array by replacing errors with mean\n",
    "x_clean_mean = clean_data(tx_train, error_value, np.mean)\n",
    "\n",
    "# Cleaned input array by replacing errors with median\n",
    "x_clean_median = clean_data(tx_train, error_value, np.median)"
   ]
  },
  {
   "cell_type": "code",
   "execution_count": 5,
   "id": "603c9b3e",
   "metadata": {},
   "outputs": [
    {
     "data": {
      "text/plain": [
       "(250000, 30)"
      ]
     },
     "execution_count": 5,
     "metadata": {},
     "output_type": "execute_result"
    }
   ],
   "source": [
    "x_clean = x_clean_median\n",
    "# Normalised version of the data (without the 1's column)\n",
    "x_normal = normalize(x_clean)\n",
    "x_normal.shape"
   ]
  },
  {
   "cell_type": "code",
   "execution_count": 6,
   "id": "40f19a51",
   "metadata": {},
   "outputs": [
    {
     "data": {
      "text/plain": [
       "(250000, 31)"
      ]
     },
     "execution_count": 6,
     "metadata": {},
     "output_type": "execute_result"
    }
   ],
   "source": [
    "first_col = np.ones((num_samples, 1))\n",
    "tx = np.concatenate((first_col, x_normal), axis=1)\n",
    "tx.shape"
   ]
  },
  {
   "cell_type": "code",
   "execution_count": 16,
   "id": "19965841",
   "metadata": {},
   "outputs": [],
   "source": [
    "LS_losses, LS_ws =  least_squares(y_train,tx)\n"
   ]
  },
  {
   "cell_type": "code",
   "execution_count": 17,
   "id": "f42aa627",
   "metadata": {},
   "outputs": [
    {
     "name": "stdout",
     "output_type": "stream",
     "text": [
      "0.33995813229841937\n",
      "[ 2.67925739e+02  2.04981152e-02 -6.34475618e-01 -5.71807284e-01\n",
      "  1.79919435e-02  1.80206040e+00  4.11457885e-02  3.24891081e-01\n",
      "  3.17174394e+01 -1.10448281e-01 -2.45596829e+02 -1.96874617e+01\n",
      "  8.92048817e+00  3.07774884e+01  2.46325887e+02 -5.84122887e-02\n",
      " -3.95839297e-02  2.46751271e+02 -4.56843478e-02  1.24774625e-01\n",
      "  2.70438863e-01  4.61271985e-02 -3.35153821e-02  4.95676584e+00\n",
      " -6.89936132e-02  3.74676193e-02  1.57114058e-02 -9.07059641e-02\n",
      "  1.22761438e-01 -1.46240355e-01  2.45555779e+02]\n"
     ]
    }
   ],
   "source": [
    "print(LS_losses)\n",
    "print(LS_ws)\n"
   ]
  },
  {
   "cell_type": "code",
   "execution_count": 21,
   "id": "ac9e15c8",
   "metadata": {},
   "outputs": [
    {
     "name": "stdout",
     "output_type": "stream",
     "text": [
      "0.431388452628382\n",
      "[-0.04727118 -0.02611867 -0.06066865 -0.01624189  0.03886474  0.02262539\n",
      "  0.02857887  0.02206788  0.02205427  0.0097985   0.00196522  0.02150685\n",
      "  0.02464882  0.02301246  0.02822324  0.02309389  0.02305318 -0.00500778\n",
      "  0.02311167  0.02311188 -0.00017527  0.02316281 -0.02451294  0.02304974\n",
      " -0.0015702   0.02309671  0.02311475 -0.00511525  0.02310706  0.02308164\n",
      "  0.02494526]\n"
     ]
    }
   ],
   "source": [
    "lambda_=1\n",
    "ridge_ws, ridge_losses =  ridge_regression(y_train,tx,lambda_)\n",
    "\n",
    "print(ridge_losses)\n",
    "print(ridge_ws)"
   ]
  },
  {
   "cell_type": "code",
   "execution_count": 8,
   "id": "235e02d0",
   "metadata": {},
   "outputs": [
    {
     "name": "stdout",
     "output_type": "stream",
     "text": [
      "SGD(0/49): loss=23.313976402092806, w0=0.6429208350442686, w1=0.44580974038197607\n",
      "SGD(1/49): loss=21.306045663073746, w0=1.3088699513040263, w1=0.6802726855976166\n",
      "SGD(2/49): loss=23.93840496637648, w0=0.909185217976026, w1=0.31872685424521097\n",
      "SGD(3/49): loss=24.446699935029816, w0=1.2184031095205732, w1=0.5598728525623662\n",
      "SGD(4/49): loss=12.140480504418747, w0=1.4840783837327904, w1=1.249440183884788\n",
      "SGD(5/49): loss=16.377397932677628, w0=1.2607708183702129, w1=1.0150039569802547\n",
      "SGD(6/49): loss=8.819323360921986, w0=1.30180686679452, w1=1.0470062412427907\n",
      "SGD(7/49): loss=9.434108362542798, w0=1.3886178378581988, w1=1.1147064579976051\n",
      "SGD(8/49): loss=11.927385246745036, w0=1.5527136059505016, w1=1.2647159725938224\n",
      "SGD(9/49): loss=20.079296410466043, w0=1.6007103344969, w1=1.3052490764865738\n",
      "SGD(10/49): loss=24.80585515985798, w0=1.1238812686191457, w1=0.21200196766430923\n",
      "SGD(11/49): loss=11.09244313240809, w0=1.5400279776341737, w1=0.6939564005941565\n",
      "SGD(12/49): loss=20.770148761814973, w0=1.4491551974042851, w1=0.6277196260321661\n",
      "SGD(13/49): loss=15.627255093059569, w0=1.324449844336006, w1=0.5300449954470946\n",
      "SGD(14/49): loss=10.783446604328343, w0=1.4766378914078695, w1=0.6370722396251628\n",
      "SGD(15/49): loss=21.541061127355754, w0=1.5965960847372749, w1=0.7084800231304363\n",
      "SGD(16/49): loss=32.06253851559222, w0=1.3449304706653813, w1=0.5122166198573314\n",
      "SGD(17/49): loss=13.438774227511969, w0=0.20903852580752935, w1=-0.657722909849468\n",
      "SGD(18/49): loss=1522.5205060798048, w0=3.463865982626574, w1=1.8805798141752903\n",
      "SGD(19/49): loss=114.9486321028263, w0=3.4232007765701686, w1=1.8514645615965335\n",
      "SGD(20/49): loss=111.78390380107614, w0=2.913624170550256, w1=1.4381039326293503\n",
      "SGD(21/49): loss=142.13466847147035, w0=3.069424878632433, w1=1.5596063369738404\n",
      "SGD(22/49): loss=122.2411191704499, w0=2.757181611060066, w1=1.2180601856590738\n",
      "SGD(23/49): loss=177.2142754452163, w0=3.40742869843461, w1=1.7251604774776248\n",
      "SGD(24/49): loss=94.14343625464387, w0=2.8656388218991466, w1=1.081981219105911\n",
      "SGD(25/49): loss=143.00961217790038, w0=3.6605362706368, w1=1.8754897617458233\n",
      "SGD(26/49): loss=60.49547610139443, w0=4.704843189315989, w1=3.0560663025488903\n",
      "SGD(27/49): loss=739.4472268808727, w0=2.7384467878326744, w1=1.7357842432487083\n",
      "SGD(28/49): loss=108.36338257263168, w0=2.198895664680115, w1=0.8923009500454706\n",
      "SGD(29/49): loss=54.412924075643154, w0=1.5950000371471451, w1=0.3582904388710558\n",
      "SGD(30/49): loss=67.21412602370603, w0=2.4757620183982247, w1=0.766801521183051\n",
      "SGD(31/49): loss=35.139059778861046, w0=1.9779340240709997, w1=0.3262357808416026\n",
      "SGD(32/49): loss=37.87361968147989, w0=2.7754196165385623, w1=1.0116974436180912\n",
      "SGD(33/49): loss=29.72526204029481, w0=2.7450650164850408, w1=0.9967135027554987\n",
      "SGD(34/49): loss=27.879424842060875, w0=2.7143563184261557, w1=0.9609209799359147\n",
      "SGD(35/49): loss=25.870334301245265, w0=2.3664873206721735, w1=0.7627593356635973\n",
      "SGD(36/49): loss=15.584162758110088, w0=2.069830410855538, w1=0.587771265849824\n",
      "SGD(37/49): loss=37.457814975415516, w0=2.3580368268594056, w1=0.8125313001463826\n",
      "SGD(38/49): loss=15.837722172405106, w0=2.153338848677736, w1=0.3442783929760353\n",
      "SGD(39/49): loss=28.362794303251604, w0=2.406540583128254, w1=0.5647727116366331\n",
      "SGD(40/49): loss=14.350944159067494, w0=2.5802467811496825, w1=0.7002388527661811\n",
      "SGD(41/49): loss=12.172015066526729, w0=2.4312589014061157, w1=0.5831348590960211\n",
      "SGD(42/49): loss=10.70119761437113, w0=2.415094275218132, w1=0.5770077536670765\n",
      "SGD(43/49): loss=11.065911974838388, w0=2.6850610264382437, w1=0.8450465602675948\n",
      "SGD(44/49): loss=12.594459112455269, w0=2.355515809535583, w1=0.8248499054646952\n",
      "SGD(45/49): loss=12.82374234536098, w0=2.5835214200160603, w1=0.9186045515417549\n",
      "SGD(46/49): loss=13.296544973844982, w0=2.063548789767893, w1=-0.19797083347625644\n",
      "SGD(47/49): loss=42.799091930451006, w0=3.523678561713282, w1=1.2231599364471741\n",
      "SGD(48/49): loss=1252.3380999509352, w0=1.1158198473268492, w1=0.3435711761368283\n",
      "SGD(49/49): loss=113.44830499943883, w0=1.0791678699105864, w1=0.3020993270038056\n"
     ]
    }
   ],
   "source": [
    "max_iter_v2 = 50\n",
    "gamma_v2 = 0.08\n",
    "\n",
    "\n",
    "# Initialization\n",
    "w_initial = np.ones((31,))\n",
    "\n",
    "LR_SGD_losses, LR_SGD_ws =  mean_squared_error_sgd(y_train,tx,w_initial,max_iter_v2,gamma_v2)"
   ]
  },
  {
   "cell_type": "code",
   "execution_count": 9,
   "id": "a84c28aa",
   "metadata": {},
   "outputs": [
    {
     "name": "stdout",
     "output_type": "stream",
     "text": [
      "Current iteration of GD=0, loss=23.31397640209284\n",
      "Current iteration of GD=1, loss=12.166022286279382\n",
      "Current iteration of GD=2, loss=11.532553467455816\n",
      "Current iteration of GD=3, loss=11.002015741325307\n",
      "Current iteration of GD=4, loss=10.54961528438139\n",
      "Current iteration of GD=5, loss=10.156928198271192\n",
      "Current iteration of GD=6, loss=9.810249677878767\n",
      "Current iteration of GD=7, loss=9.499371520227994\n",
      "Current iteration of GD=8, loss=9.216676813600193\n",
      "Current iteration of GD=9, loss=8.956469494811046\n",
      "Current iteration of GD=10, loss=8.714477824270205\n",
      "Current iteration of GD=11, loss=8.48748664630522\n",
      "Current iteration of GD=12, loss=8.27306501501767\n",
      "Current iteration of GD=13, loss=8.069364438976889\n",
      "Current iteration of GD=14, loss=7.874969420270411\n",
      "Current iteration of GD=15, loss=7.68878671893458\n",
      "Current iteration of GD=16, loss=7.509963295133544\n",
      "Current iteration of GD=17, loss=7.337825488936329\n",
      "Current iteration of GD=18, loss=7.171833928338649\n",
      "Current iteration of GD=19, loss=7.011550085878251\n",
      "Current iteration of GD=20, loss=6.856611462861717\n",
      "Current iteration of GD=21, loss=6.7067131641556355\n",
      "Current iteration of GD=22, loss=6.561594206969509\n",
      "Current iteration of GD=23, loss=6.421027336901371\n",
      "Current iteration of GD=24, loss=6.284811442806047\n",
      "Current iteration of GD=25, loss=6.152765897729027\n",
      "Current iteration of GD=26, loss=6.0247263276852765\n",
      "Current iteration of GD=27, loss=5.900541439286319\n",
      "Current iteration of GD=28, loss=5.780070632923765\n",
      "Current iteration of GD=29, loss=5.66318219908198\n",
      "Current iteration of GD=30, loss=5.549751947826756\n",
      "Current iteration of GD=31, loss=5.439662160380669\n",
      "Current iteration of GD=32, loss=5.3328007804688555\n",
      "Current iteration of GD=33, loss=5.229060784435987\n",
      "Current iteration of GD=34, loss=5.1283396849107765\n",
      "Current iteration of GD=35, loss=5.030539134490835\n",
      "Current iteration of GD=36, loss=4.93556460457023\n",
      "Current iteration of GD=37, loss=4.843325120851855\n",
      "Current iteration of GD=38, loss=4.7537330418293875\n",
      "Current iteration of GD=39, loss=4.666703870050093\n",
      "Current iteration of GD=40, loss=4.582156088568565\n",
      "Current iteration of GD=41, loss=4.5000110169440015\n",
      "Current iteration of GD=42, loss=4.420192682555281\n",
      "Current iteration of GD=43, loss=4.342627704077262\n",
      "Current iteration of GD=44, loss=4.267245184748842\n",
      "Current iteration of GD=45, loss=4.193976613642293\n",
      "Current iteration of GD=46, loss=4.122755773587775\n",
      "Current iteration of GD=47, loss=4.053518654716111\n",
      "Current iteration of GD=48, loss=3.9862033728384274\n",
      "Current iteration of GD=49, loss=3.9207500920453264\n",
      "Current iteration of GD=50, loss=3.857100951053678\n",
      "Current iteration of GD=51, loss=3.7951999929211415\n",
      "Current iteration of GD=52, loss=3.734993097827508\n",
      "Current iteration of GD=53, loss=3.676427918676055\n",
      "Current iteration of GD=54, loss=3.619453819314454\n",
      "Current iteration of GD=55, loss=3.5640218152014524\n",
      "Current iteration of GD=56, loss=3.5100845163751284\n",
      "Current iteration of GD=57, loss=3.457596072597659\n",
      "Current iteration of GD=58, loss=3.406512120561492\n",
      "Current iteration of GD=59, loss=3.356789733059883\n",
      "Current iteration of GD=60, loss=3.308387370031215\n",
      "Current iteration of GD=61, loss=3.261264831392569\n",
      "Current iteration of GD=62, loss=3.215383211587694\n",
      "Current iteration of GD=63, loss=3.1707048557774957\n",
      "Current iteration of GD=64, loss=3.1271933176060402\n",
      "Current iteration of GD=65, loss=3.0848133184801805\n",
      "Current iteration of GD=66, loss=3.0435307083014638\n",
      "Current iteration of GD=67, loss=3.0033124275960663\n",
      "Current iteration of GD=68, loss=2.9641264709870683\n",
      "Current iteration of GD=69, loss=2.9259418519582874\n",
      "Current iteration of GD=70, loss=2.888728568862444\n",
      "Current iteration of GD=71, loss=2.8524575721231207\n",
      "Current iteration of GD=72, loss=2.817100732590314\n",
      "Current iteration of GD=73, loss=2.782630811001802\n",
      "Current iteration of GD=74, loss=2.7490214285129544\n",
      "Current iteration of GD=75, loss=2.716247038253406\n",
      "Current iteration of GD=76, loss=2.6842828978729396\n",
      "Current iteration of GD=77, loss=2.653105043040437\n",
      "Current iteration of GD=78, loss=2.6226902618608348\n",
      "Current iteration of GD=79, loss=2.5930160701760303\n",
      "Current iteration of GD=80, loss=2.5640606877180008\n",
      "Current iteration of GD=81, loss=2.5358030150828026\n",
      "Current iteration of GD=82, loss=2.5082226114949\n",
      "Current iteration of GD=83, loss=2.481299673334798\n",
      "Current iteration of GD=84, loss=2.455015013400789\n",
      "Current iteration of GD=85, loss=2.429350040878196\n",
      "Current iteration of GD=86, loss=2.4042867419925686\n",
      "Current iteration of GD=87, loss=2.379807661319759\n",
      "Current iteration of GD=88, loss=2.3558958837310913\n",
      "Current iteration of GD=89, loss=2.332535016949646\n",
      "Current iteration of GD=90, loss=2.3097091746969167\n",
      "Current iteration of GD=91, loss=2.2874029604079937\n",
      "Current iteration of GD=92, loss=2.265601451495085\n",
      "Current iteration of GD=93, loss=2.244290184140776\n",
      "Current iteration of GD=94, loss=2.2234551386008223\n",
      "Current iteration of GD=95, loss=2.2030827249996103\n",
      "Current iteration of GD=96, loss=2.1831597696008664\n",
      "Current iteration of GD=97, loss=2.163673501535858\n"
     ]
    },
    {
     "ename": "KeyboardInterrupt",
     "evalue": "",
     "output_type": "error",
     "traceback": [
      "\u001b[1;31m---------------------------------------------------------------------------\u001b[0m",
      "\u001b[1;31mKeyboardInterrupt\u001b[0m                         Traceback (most recent call last)",
      "\u001b[1;32m~\\AppData\\Local\\Temp/ipykernel_9164/4204814441.py\u001b[0m in \u001b[0;36m<module>\u001b[1;34m\u001b[0m\n\u001b[0;32m      5\u001b[0m \u001b[0mw_initial\u001b[0m \u001b[1;33m=\u001b[0m \u001b[0mnp\u001b[0m\u001b[1;33m.\u001b[0m\u001b[0mones\u001b[0m\u001b[1;33m(\u001b[0m\u001b[1;33m(\u001b[0m\u001b[1;36m31\u001b[0m\u001b[1;33m,\u001b[0m\u001b[1;33m)\u001b[0m\u001b[1;33m)\u001b[0m\u001b[1;33m\u001b[0m\u001b[1;33m\u001b[0m\u001b[0m\n\u001b[0;32m      6\u001b[0m \u001b[1;33m\u001b[0m\u001b[0m\n\u001b[1;32m----> 7\u001b[1;33m \u001b[0mLS_ws\u001b[0m\u001b[1;33m,\u001b[0m \u001b[0mLS_losses\u001b[0m \u001b[1;33m=\u001b[0m \u001b[0mlogistic_regression\u001b[0m\u001b[1;33m(\u001b[0m\u001b[0my_train\u001b[0m\u001b[1;33m,\u001b[0m\u001b[0mtx\u001b[0m\u001b[1;33m,\u001b[0m\u001b[0mw_initial\u001b[0m\u001b[1;33m,\u001b[0m\u001b[0mmax_iter_v2\u001b[0m\u001b[1;33m,\u001b[0m\u001b[0mgamma_v2\u001b[0m\u001b[1;33m)\u001b[0m\u001b[1;33m\u001b[0m\u001b[1;33m\u001b[0m\u001b[0m\n\u001b[0m",
      "\u001b[1;32m~\\Desktop\\EPFL Final\\ML\\Project-1\\implementations.py\u001b[0m in \u001b[0;36mlogistic_regression\u001b[1;34m(y, tx, initial_w, max_iters, gamma)\u001b[0m\n\u001b[0;32m    238\u001b[0m     \u001b[1;32mfor\u001b[0m \u001b[0miter\u001b[0m \u001b[1;32min\u001b[0m \u001b[0mrange\u001b[0m\u001b[1;33m(\u001b[0m\u001b[0mmax_iters\u001b[0m\u001b[1;33m)\u001b[0m\u001b[1;33m:\u001b[0m\u001b[1;33m\u001b[0m\u001b[1;33m\u001b[0m\u001b[0m\n\u001b[0;32m    239\u001b[0m         \u001b[0mloss\u001b[0m \u001b[1;33m=\u001b[0m \u001b[0mcompute_logistic_loss\u001b[0m\u001b[1;33m(\u001b[0m\u001b[0my\u001b[0m\u001b[1;33m,\u001b[0m \u001b[0mtx\u001b[0m\u001b[1;33m,\u001b[0m \u001b[0mw\u001b[0m\u001b[1;33m)\u001b[0m\u001b[1;33m\u001b[0m\u001b[1;33m\u001b[0m\u001b[0m\n\u001b[1;32m--> 240\u001b[1;33m         \u001b[0mgradient_vector\u001b[0m \u001b[1;33m=\u001b[0m \u001b[0mcompute_logistic_gradient\u001b[0m\u001b[1;33m(\u001b[0m\u001b[0my\u001b[0m\u001b[1;33m,\u001b[0m \u001b[0mtx\u001b[0m\u001b[1;33m,\u001b[0m \u001b[0mw\u001b[0m\u001b[1;33m)\u001b[0m\u001b[1;33m\u001b[0m\u001b[1;33m\u001b[0m\u001b[0m\n\u001b[0m\u001b[0;32m    241\u001b[0m         \u001b[0mw\u001b[0m \u001b[1;33m=\u001b[0m \u001b[0mw\u001b[0m \u001b[1;33m-\u001b[0m \u001b[0mgamma\u001b[0m \u001b[1;33m*\u001b[0m \u001b[0mgradient_vector\u001b[0m\u001b[1;33m\u001b[0m\u001b[1;33m\u001b[0m\u001b[0m\n\u001b[0;32m    242\u001b[0m         \u001b[1;32mif\u001b[0m \u001b[0miter\u001b[0m \u001b[1;33m%\u001b[0m \u001b[1;36m1\u001b[0m \u001b[1;33m==\u001b[0m \u001b[1;36m0\u001b[0m\u001b[1;33m:\u001b[0m\u001b[1;33m\u001b[0m\u001b[1;33m\u001b[0m\u001b[0m\n",
      "\u001b[1;32m~\\Desktop\\EPFL Final\\ML\\Project-1\\implementations.py\u001b[0m in \u001b[0;36mcompute_logistic_gradient\u001b[1;34m(y, tx, w, loss_function, lambda_)\u001b[0m\n\u001b[0;32m    212\u001b[0m     return {\n\u001b[0;32m    213\u001b[0m         \u001b[1;34m'mse'\u001b[0m\u001b[1;33m:\u001b[0m \u001b[1;33m-\u001b[0m\u001b[1;36m1\u001b[0m \u001b[1;33m/\u001b[0m \u001b[0mlen\u001b[0m\u001b[1;33m(\u001b[0m\u001b[0my\u001b[0m\u001b[1;33m)\u001b[0m \u001b[1;33m*\u001b[0m \u001b[0mtx\u001b[0m\u001b[1;33m.\u001b[0m\u001b[0mtranspose\u001b[0m\u001b[1;33m(\u001b[0m\u001b[1;33m)\u001b[0m\u001b[1;33m.\u001b[0m\u001b[0mdot\u001b[0m\u001b[1;33m(\u001b[0m\u001b[0my\u001b[0m \u001b[1;33m-\u001b[0m \u001b[0mtx\u001b[0m\u001b[1;33m.\u001b[0m\u001b[0mdot\u001b[0m\u001b[1;33m(\u001b[0m\u001b[0mw\u001b[0m\u001b[1;33m)\u001b[0m\u001b[1;33m)\u001b[0m \u001b[1;33m+\u001b[0m \u001b[1;36m2\u001b[0m \u001b[1;33m*\u001b[0m \u001b[0mlambda_\u001b[0m \u001b[1;33m*\u001b[0m \u001b[0mw\u001b[0m\u001b[1;33m,\u001b[0m\u001b[1;33m\u001b[0m\u001b[1;33m\u001b[0m\u001b[0m\n\u001b[1;32m--> 214\u001b[1;33m         \u001b[1;34m'rmse'\u001b[0m\u001b[1;33m:\u001b[0m \u001b[1;33m-\u001b[0m\u001b[1;36m1\u001b[0m \u001b[1;33m/\u001b[0m \u001b[0mnp\u001b[0m\u001b[1;33m.\u001b[0m\u001b[0msqrt\u001b[0m\u001b[1;33m(\u001b[0m\u001b[0mlen\u001b[0m\u001b[1;33m(\u001b[0m\u001b[0my\u001b[0m\u001b[1;33m)\u001b[0m\u001b[1;33m)\u001b[0m \u001b[1;33m*\u001b[0m \u001b[0mtx\u001b[0m\u001b[1;33m.\u001b[0m\u001b[0mtranspose\u001b[0m\u001b[1;33m(\u001b[0m\u001b[1;33m)\u001b[0m\u001b[1;33m.\u001b[0m\u001b[0mdot\u001b[0m\u001b[1;33m(\u001b[0m\u001b[1;33m[\u001b[0m\u001b[1;33m-\u001b[0m\u001b[1;36m1\u001b[0m \u001b[1;32mif\u001b[0m \u001b[0me\u001b[0m \u001b[1;33m<=\u001b[0m \u001b[1;36m0\u001b[0m \u001b[1;32melse\u001b[0m \u001b[1;36m1\u001b[0m \u001b[1;32mfor\u001b[0m \u001b[0me\u001b[0m \u001b[1;32min\u001b[0m \u001b[1;33m(\u001b[0m\u001b[0my\u001b[0m \u001b[1;33m-\u001b[0m \u001b[0mtx\u001b[0m\u001b[1;33m.\u001b[0m\u001b[0mdot\u001b[0m\u001b[1;33m(\u001b[0m\u001b[0mw\u001b[0m\u001b[1;33m)\u001b[0m\u001b[1;33m)\u001b[0m\u001b[1;33m]\u001b[0m\u001b[1;33m)\u001b[0m\u001b[1;33m\u001b[0m\u001b[1;33m\u001b[0m\u001b[0m\n\u001b[0m\u001b[0;32m    215\u001b[0m                 \u001b[1;33m+\u001b[0m \u001b[1;36m2\u001b[0m \u001b[1;33m*\u001b[0m \u001b[0mlambda_\u001b[0m \u001b[1;33m*\u001b[0m \u001b[0mw\u001b[0m\u001b[1;33m,\u001b[0m\u001b[1;33m\u001b[0m\u001b[1;33m\u001b[0m\u001b[0m\n\u001b[0;32m    216\u001b[0m         \u001b[1;34m'mae'\u001b[0m\u001b[1;33m:\u001b[0m \u001b[1;33m-\u001b[0m\u001b[1;36m1\u001b[0m \u001b[1;33m/\u001b[0m \u001b[0mlen\u001b[0m\u001b[1;33m(\u001b[0m\u001b[0my\u001b[0m\u001b[1;33m)\u001b[0m \u001b[1;33m*\u001b[0m \u001b[0mtx\u001b[0m\u001b[1;33m.\u001b[0m\u001b[0mtranspose\u001b[0m\u001b[1;33m(\u001b[0m\u001b[1;33m)\u001b[0m\u001b[1;33m.\u001b[0m\u001b[0mdot\u001b[0m\u001b[1;33m(\u001b[0m\u001b[1;33m[\u001b[0m\u001b[1;33m-\u001b[0m\u001b[1;36m1\u001b[0m \u001b[1;32mif\u001b[0m \u001b[0me\u001b[0m \u001b[1;33m<=\u001b[0m \u001b[1;36m0\u001b[0m \u001b[1;32melse\u001b[0m \u001b[1;36m1\u001b[0m \u001b[1;32mfor\u001b[0m \u001b[0me\u001b[0m \u001b[1;32min\u001b[0m \u001b[1;33m(\u001b[0m\u001b[0my\u001b[0m \u001b[1;33m-\u001b[0m \u001b[0mtx\u001b[0m\u001b[1;33m.\u001b[0m\u001b[0mdot\u001b[0m\u001b[1;33m(\u001b[0m\u001b[0mw\u001b[0m\u001b[1;33m)\u001b[0m\u001b[1;33m)\u001b[0m\u001b[1;33m]\u001b[0m\u001b[1;33m)\u001b[0m \u001b[1;33m+\u001b[0m \u001b[1;36m2\u001b[0m \u001b[1;33m*\u001b[0m \u001b[0mlambda_\u001b[0m \u001b[1;33m*\u001b[0m \u001b[0mw\u001b[0m\u001b[1;33m,\u001b[0m\u001b[1;33m\u001b[0m\u001b[1;33m\u001b[0m\u001b[0m\n",
      "\u001b[1;32m~\\Desktop\\EPFL Final\\ML\\Project-1\\implementations.py\u001b[0m in \u001b[0;36m<listcomp>\u001b[1;34m(.0)\u001b[0m\n\u001b[0;32m    212\u001b[0m     return {\n\u001b[0;32m    213\u001b[0m         \u001b[1;34m'mse'\u001b[0m\u001b[1;33m:\u001b[0m \u001b[1;33m-\u001b[0m\u001b[1;36m1\u001b[0m \u001b[1;33m/\u001b[0m \u001b[0mlen\u001b[0m\u001b[1;33m(\u001b[0m\u001b[0my\u001b[0m\u001b[1;33m)\u001b[0m \u001b[1;33m*\u001b[0m \u001b[0mtx\u001b[0m\u001b[1;33m.\u001b[0m\u001b[0mtranspose\u001b[0m\u001b[1;33m(\u001b[0m\u001b[1;33m)\u001b[0m\u001b[1;33m.\u001b[0m\u001b[0mdot\u001b[0m\u001b[1;33m(\u001b[0m\u001b[0my\u001b[0m \u001b[1;33m-\u001b[0m \u001b[0mtx\u001b[0m\u001b[1;33m.\u001b[0m\u001b[0mdot\u001b[0m\u001b[1;33m(\u001b[0m\u001b[0mw\u001b[0m\u001b[1;33m)\u001b[0m\u001b[1;33m)\u001b[0m \u001b[1;33m+\u001b[0m \u001b[1;36m2\u001b[0m \u001b[1;33m*\u001b[0m \u001b[0mlambda_\u001b[0m \u001b[1;33m*\u001b[0m \u001b[0mw\u001b[0m\u001b[1;33m,\u001b[0m\u001b[1;33m\u001b[0m\u001b[1;33m\u001b[0m\u001b[0m\n\u001b[1;32m--> 214\u001b[1;33m         \u001b[1;34m'rmse'\u001b[0m\u001b[1;33m:\u001b[0m \u001b[1;33m-\u001b[0m\u001b[1;36m1\u001b[0m \u001b[1;33m/\u001b[0m \u001b[0mnp\u001b[0m\u001b[1;33m.\u001b[0m\u001b[0msqrt\u001b[0m\u001b[1;33m(\u001b[0m\u001b[0mlen\u001b[0m\u001b[1;33m(\u001b[0m\u001b[0my\u001b[0m\u001b[1;33m)\u001b[0m\u001b[1;33m)\u001b[0m \u001b[1;33m*\u001b[0m \u001b[0mtx\u001b[0m\u001b[1;33m.\u001b[0m\u001b[0mtranspose\u001b[0m\u001b[1;33m(\u001b[0m\u001b[1;33m)\u001b[0m\u001b[1;33m.\u001b[0m\u001b[0mdot\u001b[0m\u001b[1;33m(\u001b[0m\u001b[1;33m[\u001b[0m\u001b[1;33m-\u001b[0m\u001b[1;36m1\u001b[0m \u001b[1;32mif\u001b[0m \u001b[0me\u001b[0m \u001b[1;33m<=\u001b[0m \u001b[1;36m0\u001b[0m \u001b[1;32melse\u001b[0m \u001b[1;36m1\u001b[0m \u001b[1;32mfor\u001b[0m \u001b[0me\u001b[0m \u001b[1;32min\u001b[0m \u001b[1;33m(\u001b[0m\u001b[0my\u001b[0m \u001b[1;33m-\u001b[0m \u001b[0mtx\u001b[0m\u001b[1;33m.\u001b[0m\u001b[0mdot\u001b[0m\u001b[1;33m(\u001b[0m\u001b[0mw\u001b[0m\u001b[1;33m)\u001b[0m\u001b[1;33m)\u001b[0m\u001b[1;33m]\u001b[0m\u001b[1;33m)\u001b[0m\u001b[1;33m\u001b[0m\u001b[1;33m\u001b[0m\u001b[0m\n\u001b[0m\u001b[0;32m    215\u001b[0m                 \u001b[1;33m+\u001b[0m \u001b[1;36m2\u001b[0m \u001b[1;33m*\u001b[0m \u001b[0mlambda_\u001b[0m \u001b[1;33m*\u001b[0m \u001b[0mw\u001b[0m\u001b[1;33m,\u001b[0m\u001b[1;33m\u001b[0m\u001b[1;33m\u001b[0m\u001b[0m\n\u001b[0;32m    216\u001b[0m         \u001b[1;34m'mae'\u001b[0m\u001b[1;33m:\u001b[0m \u001b[1;33m-\u001b[0m\u001b[1;36m1\u001b[0m \u001b[1;33m/\u001b[0m \u001b[0mlen\u001b[0m\u001b[1;33m(\u001b[0m\u001b[0my\u001b[0m\u001b[1;33m)\u001b[0m \u001b[1;33m*\u001b[0m \u001b[0mtx\u001b[0m\u001b[1;33m.\u001b[0m\u001b[0mtranspose\u001b[0m\u001b[1;33m(\u001b[0m\u001b[1;33m)\u001b[0m\u001b[1;33m.\u001b[0m\u001b[0mdot\u001b[0m\u001b[1;33m(\u001b[0m\u001b[1;33m[\u001b[0m\u001b[1;33m-\u001b[0m\u001b[1;36m1\u001b[0m \u001b[1;32mif\u001b[0m \u001b[0me\u001b[0m \u001b[1;33m<=\u001b[0m \u001b[1;36m0\u001b[0m \u001b[1;32melse\u001b[0m \u001b[1;36m1\u001b[0m \u001b[1;32mfor\u001b[0m \u001b[0me\u001b[0m \u001b[1;32min\u001b[0m \u001b[1;33m(\u001b[0m\u001b[0my\u001b[0m \u001b[1;33m-\u001b[0m \u001b[0mtx\u001b[0m\u001b[1;33m.\u001b[0m\u001b[0mdot\u001b[0m\u001b[1;33m(\u001b[0m\u001b[0mw\u001b[0m\u001b[1;33m)\u001b[0m\u001b[1;33m)\u001b[0m\u001b[1;33m]\u001b[0m\u001b[1;33m)\u001b[0m \u001b[1;33m+\u001b[0m \u001b[1;36m2\u001b[0m \u001b[1;33m*\u001b[0m \u001b[0mlambda_\u001b[0m \u001b[1;33m*\u001b[0m \u001b[0mw\u001b[0m\u001b[1;33m,\u001b[0m\u001b[1;33m\u001b[0m\u001b[1;33m\u001b[0m\u001b[0m\n",
      "\u001b[1;31mKeyboardInterrupt\u001b[0m: "
     ]
    }
   ],
   "source": [
    "max_iter_v2 = 200\n",
    "gamma_v2 = 0.06\n",
    "\n",
    "# Initialization\n",
    "w_initial = np.ones((31,))\n",
    "\n",
    "LS_ws, LS_losses = logistic_regression(y_train,tx,w_initial,max_iter_v2,gamma_v2)\n"
   ]
  },
  {
   "cell_type": "code",
   "execution_count": null,
   "id": "85d97fa4",
   "metadata": {},
   "outputs": [],
   "source": [
    "plt.plot(LS_losses)"
   ]
  },
  {
   "cell_type": "code",
   "execution_count": null,
   "id": "323efc57",
   "metadata": {},
   "outputs": [],
   "source": [
    "max_iter_v2 = 400\n",
    "gamma_v2 = 0.01\n",
    "\n",
    "# Initialization\n",
    "w_initial = np.ones((31,))\n",
    "\n",
    "LR_GD_losses, LR_GD_ws =  mean_squared_error_gd(y_train,tx,w_initial,max_iter_v2,gamma_v2)\n"
   ]
  },
  {
   "cell_type": "code",
   "execution_count": null,
   "id": "2e969bc7",
   "metadata": {},
   "outputs": [],
   "source": [
    "plt.plot(LR_GD_losses)"
   ]
  }
 ],
 "metadata": {
  "kernelspec": {
   "display_name": "Python 3.8.8 64-bit ('anaconda3')",
   "language": "python",
   "name": "python3"
  },
  "language_info": {
   "codemirror_mode": {
    "name": "ipython",
    "version": 3
   },
   "file_extension": ".py",
   "mimetype": "text/x-python",
   "name": "python",
   "nbconvert_exporter": "python",
   "pygments_lexer": "ipython3",
   "version": "3.8.8"
  },
  "vscode": {
   "interpreter": {
    "hash": "2d03e1092ddd2a4ecd59291e725fb22bc285d689b8aa7404babab17868ca58a3"
   }
  }
 },
 "nbformat": 4,
 "nbformat_minor": 5
}
