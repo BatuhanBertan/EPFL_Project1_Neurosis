{
 "cells": [
  {
   "cell_type": "code",
   "execution_count": 3,
   "metadata": {},
   "outputs": [
    {
     "name": "stdout",
     "output_type": "stream",
     "text": [
      "[['100000' 's' '138.47' ... '1.24' '-2.475' '113.497']\n",
      " ['100001' 'b' '160.937' ... '-999' '-999' '46.226']\n",
      " ['100002' 'b' '-999' ... '-999' '-999' '44.251']\n",
      " ...\n",
      " ['349997' 's' '105.457' ... '-999' '-999' '41.992']\n",
      " ['349998' 'b' '94.951' ... '-999' '-999' '0']\n",
      " ['349999' 'b' '-999' ... '-999' '-999' '0']]\n"
     ]
    }
   ],
   "source": [
    "import numpy as np\n",
    "from numpy import genfromtxt\n",
    "\n",
    "data_path = \"data/train.csv\"\n",
    "raw_data = np.genfromtxt(data_path, delimiter=\",\",\n",
    "                      skip_header=1, dtype=str)\n",
    "print(raw_data)"
   ]
  }
 ],
 "metadata": {
  "kernelspec": {
   "display_name": "Python 3.8.8 64-bit ('anaconda3')",
   "language": "python",
   "name": "python3"
  },
  "language_info": {
   "codemirror_mode": {
    "name": "ipython",
    "version": 3
   },
   "file_extension": ".py",
   "mimetype": "text/x-python",
   "name": "python",
   "nbconvert_exporter": "python",
   "pygments_lexer": "ipython3",
   "version": "3.8.8"
  },
  "orig_nbformat": 4,
  "vscode": {
   "interpreter": {
    "hash": "2d03e1092ddd2a4ecd59291e725fb22bc285d689b8aa7404babab17868ca58a3"
   }
  }
 },
 "nbformat": 4,
 "nbformat_minor": 2
}
